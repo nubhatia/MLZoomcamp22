{
 "cells": [
  {
   "cell_type": "code",
   "execution_count": 42,
   "id": "0ba3df07",
   "metadata": {},
   "outputs": [],
   "source": [
    "# Importing Libraries\n",
    "\n",
    "import numpy as np\n",
    "import pandas as pd\n",
    "\n",
    "import seaborn as sns\n",
    "from matplotlib import pyplot as plt\n",
    "%matplotlib inline"
   ]
  },
  {
   "cell_type": "code",
   "execution_count": 43,
   "id": "0f40bb86",
   "metadata": {},
   "outputs": [],
   "source": [
    "# Auto Complete\n",
    "\n",
    "# pip install jupyter_contrib_nbextensions\n",
    "# jupyter contrib nbextension install --user\n",
    "# jupyter nbextension enable hinterland/hinterland"
   ]
  },
  {
   "cell_type": "code",
   "execution_count": 44,
   "id": "89d0949f",
   "metadata": {},
   "outputs": [
    {
     "data": {
      "text/html": [
       "<div>\n",
       "<style scoped>\n",
       "    .dataframe tbody tr th:only-of-type {\n",
       "        vertical-align: middle;\n",
       "    }\n",
       "\n",
       "    .dataframe tbody tr th {\n",
       "        vertical-align: top;\n",
       "    }\n",
       "\n",
       "    .dataframe thead th {\n",
       "        text-align: right;\n",
       "    }\n",
       "</style>\n",
       "<table border=\"1\" class=\"dataframe\">\n",
       "  <thead>\n",
       "    <tr style=\"text-align: right;\">\n",
       "      <th></th>\n",
       "      <th>longitude</th>\n",
       "      <th>latitude</th>\n",
       "      <th>housing_median_age</th>\n",
       "      <th>total_rooms</th>\n",
       "      <th>total_bedrooms</th>\n",
       "      <th>population</th>\n",
       "      <th>households</th>\n",
       "      <th>median_income</th>\n",
       "      <th>median_house_value</th>\n",
       "      <th>ocean_proximity</th>\n",
       "    </tr>\n",
       "  </thead>\n",
       "  <tbody>\n",
       "    <tr>\n",
       "      <th>0</th>\n",
       "      <td>-122.23</td>\n",
       "      <td>37.88</td>\n",
       "      <td>41.0</td>\n",
       "      <td>880.0</td>\n",
       "      <td>129.0</td>\n",
       "      <td>322.0</td>\n",
       "      <td>126.0</td>\n",
       "      <td>8.3252</td>\n",
       "      <td>452600.0</td>\n",
       "      <td>NEAR BAY</td>\n",
       "    </tr>\n",
       "    <tr>\n",
       "      <th>1</th>\n",
       "      <td>-122.22</td>\n",
       "      <td>37.86</td>\n",
       "      <td>21.0</td>\n",
       "      <td>7099.0</td>\n",
       "      <td>1106.0</td>\n",
       "      <td>2401.0</td>\n",
       "      <td>1138.0</td>\n",
       "      <td>8.3014</td>\n",
       "      <td>358500.0</td>\n",
       "      <td>NEAR BAY</td>\n",
       "    </tr>\n",
       "    <tr>\n",
       "      <th>2</th>\n",
       "      <td>-122.24</td>\n",
       "      <td>37.85</td>\n",
       "      <td>52.0</td>\n",
       "      <td>1467.0</td>\n",
       "      <td>190.0</td>\n",
       "      <td>496.0</td>\n",
       "      <td>177.0</td>\n",
       "      <td>7.2574</td>\n",
       "      <td>352100.0</td>\n",
       "      <td>NEAR BAY</td>\n",
       "    </tr>\n",
       "    <tr>\n",
       "      <th>3</th>\n",
       "      <td>-122.25</td>\n",
       "      <td>37.85</td>\n",
       "      <td>52.0</td>\n",
       "      <td>1274.0</td>\n",
       "      <td>235.0</td>\n",
       "      <td>558.0</td>\n",
       "      <td>219.0</td>\n",
       "      <td>5.6431</td>\n",
       "      <td>341300.0</td>\n",
       "      <td>NEAR BAY</td>\n",
       "    </tr>\n",
       "    <tr>\n",
       "      <th>4</th>\n",
       "      <td>-122.25</td>\n",
       "      <td>37.85</td>\n",
       "      <td>52.0</td>\n",
       "      <td>1627.0</td>\n",
       "      <td>280.0</td>\n",
       "      <td>565.0</td>\n",
       "      <td>259.0</td>\n",
       "      <td>3.8462</td>\n",
       "      <td>342200.0</td>\n",
       "      <td>NEAR BAY</td>\n",
       "    </tr>\n",
       "  </tbody>\n",
       "</table>\n",
       "</div>"
      ],
      "text/plain": [
       "   longitude  latitude  housing_median_age  total_rooms  total_bedrooms  \\\n",
       "0    -122.23     37.88                41.0        880.0           129.0   \n",
       "1    -122.22     37.86                21.0       7099.0          1106.0   \n",
       "2    -122.24     37.85                52.0       1467.0           190.0   \n",
       "3    -122.25     37.85                52.0       1274.0           235.0   \n",
       "4    -122.25     37.85                52.0       1627.0           280.0   \n",
       "\n",
       "   population  households  median_income  median_house_value ocean_proximity  \n",
       "0       322.0       126.0         8.3252            452600.0        NEAR BAY  \n",
       "1      2401.0      1138.0         8.3014            358500.0        NEAR BAY  \n",
       "2       496.0       177.0         7.2574            352100.0        NEAR BAY  \n",
       "3       558.0       219.0         5.6431            341300.0        NEAR BAY  \n",
       "4       565.0       259.0         3.8462            342200.0        NEAR BAY  "
      ]
     },
     "execution_count": 44,
     "metadata": {},
     "output_type": "execute_result"
    }
   ],
   "source": [
    "# Reading the data from GitHub\n",
    "\n",
    "data=pd.read_csv(\"https://raw.githubusercontent.com/alexeygrigorev/datasets/master/housing.csv\")\n",
    "\n",
    "data.head()"
   ]
  },
  {
   "cell_type": "markdown",
   "id": "96bcd350",
   "metadata": {},
   "source": [
    "# Exploratory Data Analysis"
   ]
  },
  {
   "cell_type": "code",
   "execution_count": 45,
   "id": "2e32a7c9",
   "metadata": {},
   "outputs": [
    {
     "data": {
      "image/png": "[encoded data removed]",
      "text/plain": [
       "<Figure size 432x288 with 1 Axes>"
      ]
     },
     "metadata": {
      "needs_background": "light"
     },
     "output_type": "display_data"
    }
   ],
   "source": [
    "# Look at the median_house_value variable. Does it have a long tail?\n",
    "\n",
    "plt.figure(figsize=(6, 4))\n",
    "\n",
    "sns.histplot(data.median_house_value, bins=100, color='black', alpha=1)\n",
    "plt.ylabel('Frequency')\n",
    "plt.xlabel('House Value')\n",
    "plt.title('Distribution of House Value')\n",
    "\n",
    "plt.show()\n",
    "\n",
    "\n",
    "# Ans: Not a long tail"
   ]
  },
  {
   "cell_type": "code",
   "execution_count": 46,
   "id": "fc56ad46",
   "metadata": {},
   "outputs": [
    {
     "data": {
      "text/html": [
       "<div>\n",
       "<style scoped>\n",
       "    .dataframe tbody tr th:only-of-type {\n",
       "        vertical-align: middle;\n",
       "    }\n",
       "\n",
       "    .dataframe tbody tr th {\n",
       "        vertical-align: top;\n",
       "    }\n",
       "\n",
       "    .dataframe thead th {\n",
       "        text-align: right;\n",
       "    }\n",
       "</style>\n",
       "<table border=\"1\" class=\"dataframe\">\n",
       "  <thead>\n",
       "    <tr style=\"text-align: right;\">\n",
       "      <th></th>\n",
       "      <th>longitude</th>\n",
       "      <th>latitude</th>\n",
       "      <th>housing_median_age</th>\n",
       "      <th>total_rooms</th>\n",
       "      <th>total_bedrooms</th>\n",
       "      <th>population</th>\n",
       "      <th>households</th>\n",
       "      <th>median_income</th>\n",
       "      <th>median_house_value</th>\n",
       "    </tr>\n",
       "  </thead>\n",
       "  <tbody>\n",
       "    <tr>\n",
       "      <th>0</th>\n",
       "      <td>-122.23</td>\n",
       "      <td>37.88</td>\n",
       "      <td>41.0</td>\n",
       "      <td>880.0</td>\n",
       "      <td>129.0</td>\n",
       "      <td>322.0</td>\n",
       "      <td>126.0</td>\n",
       "      <td>8.3252</td>\n",
       "      <td>452600.0</td>\n",
       "    </tr>\n",
       "    <tr>\n",
       "      <th>1</th>\n",
       "      <td>-122.22</td>\n",
       "      <td>37.86</td>\n",
       "      <td>21.0</td>\n",
       "      <td>7099.0</td>\n",
       "      <td>1106.0</td>\n",
       "      <td>2401.0</td>\n",
       "      <td>1138.0</td>\n",
       "      <td>8.3014</td>\n",
       "      <td>358500.0</td>\n",
       "    </tr>\n",
       "    <tr>\n",
       "      <th>2</th>\n",
       "      <td>-122.24</td>\n",
       "      <td>37.85</td>\n",
       "      <td>52.0</td>\n",
       "      <td>1467.0</td>\n",
       "      <td>190.0</td>\n",
       "      <td>496.0</td>\n",
       "      <td>177.0</td>\n",
       "      <td>7.2574</td>\n",
       "      <td>352100.0</td>\n",
       "    </tr>\n",
       "    <tr>\n",
       "      <th>3</th>\n",
       "      <td>-122.25</td>\n",
       "      <td>37.85</td>\n",
       "      <td>52.0</td>\n",
       "      <td>1274.0</td>\n",
       "      <td>235.0</td>\n",
       "      <td>558.0</td>\n",
       "      <td>219.0</td>\n",
       "      <td>5.6431</td>\n",
       "      <td>341300.0</td>\n",
       "    </tr>\n",
       "    <tr>\n",
       "      <th>4</th>\n",
       "      <td>-122.25</td>\n",
       "      <td>37.85</td>\n",
       "      <td>52.0</td>\n",
       "      <td>1627.0</td>\n",
       "      <td>280.0</td>\n",
       "      <td>565.0</td>\n",
       "      <td>259.0</td>\n",
       "      <td>3.8462</td>\n",
       "      <td>342200.0</td>\n",
       "    </tr>\n",
       "  </tbody>\n",
       "</table>\n",
       "</div>"
      ],
      "text/plain": [
       "   longitude  latitude  housing_median_age  total_rooms  total_bedrooms  \\\n",
       "0    -122.23     37.88                41.0        880.0           129.0   \n",
       "1    -122.22     37.86                21.0       7099.0          1106.0   \n",
       "2    -122.24     37.85                52.0       1467.0           190.0   \n",
       "3    -122.25     37.85                52.0       1274.0           235.0   \n",
       "4    -122.25     37.85                52.0       1627.0           280.0   \n",
       "\n",
       "   population  households  median_income  median_house_value  \n",
       "0       322.0       126.0         8.3252            452600.0  \n",
       "1      2401.0      1138.0         8.3014            358500.0  \n",
       "2       496.0       177.0         7.2574            352100.0  \n",
       "3       558.0       219.0         5.6431            341300.0  \n",
       "4       565.0       259.0         3.8462            342200.0  "
      ]
     },
     "execution_count": 46,
     "metadata": {},
     "output_type": "execute_result"
    }
   ],
   "source": [
    "# Delete ocean_proximity per instructions from HW\n",
    "\n",
    "del data[\"ocean_proximity\"]\n",
    "\n",
    "data.head()"
   ]
  },
  {
   "cell_type": "code",
   "execution_count": 47,
   "id": "8b6075d4",
   "metadata": {},
   "outputs": [
    {
     "data": {
      "text/plain": [
       "longitude               0\n",
       "latitude                0\n",
       "housing_median_age      0\n",
       "total_rooms             0\n",
       "total_bedrooms        207\n",
       "population              0\n",
       "households              0\n",
       "median_income           0\n",
       "median_house_value      0\n",
       "dtype: int64"
      ]
     },
     "execution_count": 47,
     "metadata": {},
     "output_type": "execute_result"
    }
   ],
   "source": [
    "# Question 1: Find a feature with missing values. How many missing values does it have?\n",
    "\n",
    "data.isnull().sum()\n",
    "\n",
    "# Ans: 207"
   ]
  },
  {
   "cell_type": "code",
   "execution_count": 48,
   "id": "3825c9a8",
   "metadata": {},
   "outputs": [
    {
     "data": {
      "text/plain": [
       "1166.0"
      ]
     },
     "execution_count": 48,
     "metadata": {},
     "output_type": "execute_result"
    }
   ],
   "source": [
    "# Question 2: What's the median (50% percentile) for variable 'population'?\n",
    "\n",
    "data['population'].median()\n",
    "\n",
    "# Ans: 1166"
   ]
  },
  {
   "cell_type": "code",
   "execution_count": 49,
   "id": "ca1a8168",
   "metadata": {},
   "outputs": [],
   "source": [
    "# Shuffle the initial dataset, use seed 42.\n",
    "# Split your data in train/val/test sets, with 60%/20%/20% distribution.\n",
    "# Make sure that the target value ('median_house_value') is not in your dataframe.\n",
    "# Apply the log transformation to the median_house_value variable using the np.log1p() function.\n",
    "\n",
    "np.random.seed(42)\n",
    "\n",
    "n = len(data)\n",
    "\n",
    "n_val = int(0.2 * n)\n",
    "n_test = int(0.2 * n)\n",
    "n_train = n - (n_val + n_test)\n",
    "\n",
    "idx = np.arange(n)\n",
    "np.random.shuffle(idx)\n",
    "\n",
    "data_shuffled = data.iloc[idx]\n",
    "\n",
    "data_train_mean = data_shuffled.iloc[:n_train].copy()\n",
    "data_val_mean = data_shuffled.iloc[n_train:n_train+n_val].copy()\n",
    "data_test_mean = data_shuffled.iloc[n_train+n_val:].copy()"
   ]
  },
  {
   "cell_type": "code",
   "execution_count": 50,
   "id": "8a764315",
   "metadata": {},
   "outputs": [],
   "source": [
    "# Filling null with mean\n",
    "\n",
    "mean_value=data_train_mean['total_bedrooms'].mean()\n",
    "data_train_mean['total_bedrooms'].fillna(value=mean_value, inplace=True)\n",
    "data_val_mean['total_bedrooms'].fillna(value=mean_value, inplace=True)\n",
    "data_test_mean['total_bedrooms'].fillna(value=mean_value, inplace=True)"
   ]
  },
  {
   "cell_type": "code",
   "execution_count": 51,
   "id": "6c2c9b04",
   "metadata": {},
   "outputs": [
    {
     "data": {
      "text/plain": [
       "Index(['longitude', 'latitude', 'housing_median_age', 'total_rooms',\n",
       "       'total_bedrooms', 'population', 'households', 'median_income',\n",
       "       'median_house_value'],\n",
       "      dtype='object')"
      ]
     },
     "execution_count": 51,
     "metadata": {},
     "output_type": "execute_result"
    }
   ],
   "source": [
    "data_train_mean.columns"
   ]
  },
  {
   "cell_type": "code",
   "execution_count": 52,
   "id": "81dbaa2f",
   "metadata": {},
   "outputs": [],
   "source": [
    "y_train_orig = data_train_mean.median_house_value.values\n",
    "y_val_orig = data_val_mean.median_house_value.values\n",
    "y_test_orig = data_test_mean.median_house_value.values\n",
    "\n",
    "y_train = np.log1p(data_train_mean.median_house_value.values)\n",
    "y_val = np.log1p(data_val_mean.median_house_value.values)\n",
    "y_test = np.log1p(data_test_mean.median_house_value.values)\n",
    "\n",
    "del data_train_mean['median_house_value']\n",
    "del data_val_mean['median_house_value']\n",
    "del data_test_mean['median_house_value']"
   ]
  },
  {
   "cell_type": "markdown",
   "id": "7fbd1176",
   "metadata": {},
   "source": [
    "# Linear Regression"
   ]
  },
  {
   "cell_type": "code",
   "execution_count": 53,
   "id": "56775de0",
   "metadata": {},
   "outputs": [],
   "source": [
    "def train_linear_regression(X, y):\n",
    "    ones = np.ones(X.shape[0])\n",
    "    X = np.column_stack([ones, X])\n",
    "\n",
    "    XTX = X.T.dot(X)\n",
    "    XTX_inv = np.linalg.inv(XTX)\n",
    "    w = XTX_inv.dot(X.T).dot(y)\n",
    "    \n",
    "    return w[0], w[1:]"
   ]
  },
  {
   "cell_type": "markdown",
   "id": "253fef95",
   "metadata": {},
   "source": [
    "# Baseline Solution with Mean"
   ]
  },
  {
   "cell_type": "code",
   "execution_count": 54,
   "id": "1bed28af",
   "metadata": {},
   "outputs": [],
   "source": [
    "base = ['longitude', 'latitude', 'housing_median_age', 'total_rooms', \n",
    "        'total_bedrooms', 'population', 'households', 'median_income']"
   ]
  },
  {
   "cell_type": "code",
   "execution_count": 55,
   "id": "0bad0460",
   "metadata": {},
   "outputs": [],
   "source": [
    "X_train=data_train_mean.copy()\n",
    "w_0, w = train_linear_regression(X_train, y_train)\n",
    "y_pred = w_0 + X_train.dot(w)"
   ]
  },
  {
   "cell_type": "code",
   "execution_count": 56,
   "id": "4f1c9d95",
   "metadata": {},
   "outputs": [
    {
     "data": {
      "image/png": "[encoded data removed]",
      "text/plain": [
       "<Figure size 432x288 with 1 Axes>"
      ]
     },
     "metadata": {
      "needs_background": "light"
     },
     "output_type": "display_data"
    }
   ],
   "source": [
    "plt.figure(figsize=(6, 4))\n",
    "\n",
    "sns.histplot(y_train, label='target', color='#222222', alpha=0.6, bins=40)\n",
    "sns.histplot(y_pred, label='prediction', color='#aaaaaa', alpha=0.8, bins=40)\n",
    "\n",
    "plt.legend()\n",
    "\n",
    "plt.ylabel('Frequency')\n",
    "plt.xlabel('Log(Price + 1)')\n",
    "plt.title('Predictions vs Actual Distribution')\n",
    "\n",
    "plt.show()"
   ]
  },
  {
   "cell_type": "code",
   "execution_count": 57,
   "id": "ac8c3a4e",
   "metadata": {},
   "outputs": [],
   "source": [
    "def rmse(y, y_pred):\n",
    "    error = y_pred - y\n",
    "    mse = (error ** 2).mean()\n",
    "    return np.sqrt(mse)"
   ]
  },
  {
   "cell_type": "code",
   "execution_count": 58,
   "id": "e9b6ebe4",
   "metadata": {},
   "outputs": [
    {
     "data": {
      "text/plain": [
       "0.341041618103281"
      ]
     },
     "execution_count": 58,
     "metadata": {},
     "output_type": "execute_result"
    }
   ],
   "source": [
    "rmse(y_train, y_pred)"
   ]
  },
  {
   "cell_type": "code",
   "execution_count": 59,
   "id": "510a21ae",
   "metadata": {},
   "outputs": [],
   "source": [
    "X_val = data_val_mean.copy()\n",
    "y_pred = w_0 + X_val.dot(w)\n",
    "\n",
    "score = rmse(y_val, y_pred)"
   ]
  },
  {
   "cell_type": "code",
   "execution_count": 60,
   "id": "17cb105d",
   "metadata": {},
   "outputs": [
    {
     "name": "stdout",
     "output_type": "stream",
     "text": [
      "RMSE score with mean filled for null values is: 0.33\n"
     ]
    }
   ],
   "source": [
    "print(\"RMSE score with mean filled for null values is:\", round(score, 2))"
   ]
  },
  {
   "cell_type": "markdown",
   "id": "9003cc8e",
   "metadata": {},
   "source": [
    "# Baseline Solution with 0"
   ]
  },
  {
   "cell_type": "code",
   "execution_count": 61,
   "id": "82719272",
   "metadata": {},
   "outputs": [],
   "source": [
    "data_train_0 = data_shuffled.iloc[:n_train].copy()\n",
    "data_val_0 = data_shuffled.iloc[n_train:n_train+n_val].copy()\n",
    "data_test_0 = data_shuffled.iloc[n_train+n_val:].copy()\n",
    "\n",
    "# Filling null with 0\n",
    "\n",
    "data_train_0['total_bedrooms'] = data_train_0['total_bedrooms'].fillna(0)\n",
    "data_val_0['total_bedrooms'] = data_val_0['total_bedrooms'].fillna(0)\n",
    "data_test_0['total_bedrooms'] = data_test_0['total_bedrooms'].fillna(0)"
   ]
  },
  {
   "cell_type": "code",
   "execution_count": 62,
   "id": "87a7200e",
   "metadata": {},
   "outputs": [],
   "source": [
    "y_train_orig = data_train_0.median_house_value.values\n",
    "y_val_orig = data_val_0.median_house_value.values\n",
    "y_test_orig = data_test_0.median_house_value.values\n",
    "\n",
    "y_train = np.log1p(data_train_0.median_house_value.values)\n",
    "y_val = np.log1p(data_val_0.median_house_value.values)\n",
    "y_test = np.log1p(data_test_0.median_house_value.values)\n",
    "\n",
    "del data_train_0['median_house_value']\n",
    "del data_val_0['median_house_value']\n",
    "del data_test_0['median_house_value']"
   ]
  },
  {
   "cell_type": "code",
   "execution_count": 63,
   "id": "f7b078f1",
   "metadata": {},
   "outputs": [],
   "source": [
    "X_train=data_train_0.copy()\n",
    "w_0, w = train_linear_regression(X_train, y_train)\n",
    "y_pred = w_0 + X_train.dot(w)"
   ]
  },
  {
   "cell_type": "code",
   "execution_count": 64,
   "id": "263174ad",
   "metadata": {},
   "outputs": [
    {
     "data": {
      "image/png": "[encoded data removed]",
      "text/plain": [
       "<Figure size 432x288 with 1 Axes>"
      ]
     },
     "metadata": {
      "needs_background": "light"
     },
     "output_type": "display_data"
    }
   ],
   "source": [
    "plt.figure(figsize=(6, 4))\n",
    "\n",
    "sns.histplot(y_train, label='target', color='#222222', alpha=0.6, bins=40)\n",
    "sns.histplot(y_pred, label='prediction', color='#aaaaaa', alpha=0.8, bins=40)\n",
    "\n",
    "plt.legend()\n",
    "\n",
    "plt.ylabel('Frequency')\n",
    "plt.xlabel('Log(Price + 1)')\n",
    "plt.title('Predictions vs Actual Distribution')\n",
    "\n",
    "plt.show()"
   ]
  },
  {
   "cell_type": "code",
   "execution_count": 65,
   "id": "6a618419",
   "metadata": {},
   "outputs": [
    {
     "data": {
      "text/plain": [
       "0.34131359101566694"
      ]
     },
     "execution_count": 65,
     "metadata": {},
     "output_type": "execute_result"
    }
   ],
   "source": [
    "rmse(y_train, y_pred)"
   ]
  },
  {
   "cell_type": "code",
   "execution_count": 66,
   "id": "da29203f",
   "metadata": {},
   "outputs": [
    {
     "name": "stdout",
     "output_type": "stream",
     "text": [
      "RMSE score with 0 filled for null values is: 0.33\n"
     ]
    }
   ],
   "source": [
    "X_val = data_val_0.copy()\n",
    "y_pred = w_0 + X_val.dot(w)\n",
    "\n",
    "score = rmse(y_val, y_pred)\n",
    "\n",
    "print(\"RMSE score with 0 filled for null values is:\", round(score, 2))\n",
    "\n",
    "# Answer to Q3: Both are equally good"
   ]
  },
  {
   "cell_type": "markdown",
   "id": "6366a5a6",
   "metadata": {},
   "source": [
    "# Regularization"
   ]
  },
  {
   "cell_type": "code",
   "execution_count": 67,
   "id": "d5018b6e",
   "metadata": {},
   "outputs": [],
   "source": [
    "# Question 4:\n",
    "\n",
    "def train_linear_regression_reg(X, y, r=0.0):\n",
    "    ones = np.ones(X.shape[0])\n",
    "    X = np.column_stack([ones, X])\n",
    "\n",
    "    XTX = X.T.dot(X)\n",
    "    reg = r * np.eye(XTX.shape[0])\n",
    "    XTX = XTX + reg\n",
    "\n",
    "    XTX_inv = np.linalg.inv(XTX)\n",
    "    w = XTX_inv.dot(X.T).dot(y)\n",
    "    \n",
    "    return w[0], w[1:]"
   ]
  },
  {
   "cell_type": "code",
   "execution_count": 68,
   "id": "7b32cb43",
   "metadata": {},
   "outputs": [],
   "source": [
    "for r in [0, 0.000001, 0.0001, 0.001]:\n",
    "    \n",
    "    w_0, w = train_linear_regression_reg(X_train, y_train, r=r)\n",
    "#     print('%5s, %.2f, %.2f, %.2f' % (r, w_0, w[13], w[21]))"
   ]
  },
  {
   "cell_type": "code",
   "execution_count": 69,
   "id": "0934199f",
   "metadata": {},
   "outputs": [
    {
     "name": "stdout",
     "output_type": "stream",
     "text": [
      "train 0.34131359101566694\n",
      "val 0.32953303652286803\n"
     ]
    }
   ],
   "source": [
    "w_0, w = train_linear_regression_reg(X_train, y_train, r=0)\n",
    "\n",
    "y_pred = w_0 + X_train.dot(w)\n",
    "print('train', rmse(y_train, y_pred))\n",
    "\n",
    "y_pred = w_0 + X_val.dot(w)\n",
    "print('val', rmse(y_val, y_pred))"
   ]
  },
  {
   "cell_type": "code",
   "execution_count": 70,
   "id": "447e37e9",
   "metadata": {},
   "outputs": [
    {
     "name": "stdout",
     "output_type": "stream",
     "text": [
      "train 0.34131359101568953\n",
      "val 0.329533036164661\n"
     ]
    }
   ],
   "source": [
    "w_0, w = train_linear_regression_reg(X_train, y_train, r=0.000001)\n",
    "\n",
    "y_pred = w_0 + X_train.dot(w)\n",
    "print('train', rmse(y_train, y_pred))\n",
    "\n",
    "y_pred = w_0 + X_val.dot(w)\n",
    "print('val', rmse(y_val, y_pred))"
   ]
  },
  {
   "cell_type": "code",
   "execution_count": 71,
   "id": "93bb8f73",
   "metadata": {},
   "outputs": [
    {
     "name": "stdout",
     "output_type": "stream",
     "text": [
      "     0 0.33\n",
      " 1e-06 0.33\n",
      "0.0001 0.33\n",
      " 0.001 0.33\n"
     ]
    }
   ],
   "source": [
    "for r in [0, 0.000001, 0.0001, 0.001]:\n",
    "    w_0, w = train_linear_regression_reg(X_train, y_train, r=r)\n",
    "    y_pred = w_0 + X_val.dot(w)\n",
    "    print('%6s' %r, round(rmse(y_val, y_pred),2))\n",
    "    \n",
    "# Ans: Smallest r is 0"
   ]
  },
  {
   "cell_type": "markdown",
   "id": "b360a1dd",
   "metadata": {},
   "source": [
    "# Question 5"
   ]
  },
  {
   "cell_type": "code",
   "execution_count": 72,
   "id": "66f40228",
   "metadata": {},
   "outputs": [],
   "source": [
    "# We used seed 42 for splitting the data. Let's find out how selecting the seed influences our score.\n",
    "# Try different seed values: [0, 1, 2, 3, 4, 5, 6, 7, 8, 9].\n",
    "# For each seed, do the train/validation/test split with 60%/20%/20% distribution.\n",
    "# Fill the missing values with 0 and train a model without regularization.\n",
    "# For each seed, evaluate the model on the validation dataset and collect the RMSE scores.\n",
    "# What's the standard deviation of all the scores? To compute the standard deviation, use np.std.\n",
    "# Round the result to 3 decimal digits (round(std, 3))"
   ]
  },
  {
   "cell_type": "code",
   "execution_count": 73,
   "id": "7be9320d",
   "metadata": {},
   "outputs": [
    {
     "name": "stdout",
     "output_type": "stream",
     "text": [
      "0.004\n"
     ]
    }
   ],
   "source": [
    "data_seed=data.copy()\n",
    "data_seed['total_bedrooms'] = data_seed['total_bedrooms'].fillna(0)\n",
    "\n",
    "n = len(data)\n",
    "\n",
    "n_val = int(0.2 * n)\n",
    "n_test = int(0.2 * n)\n",
    "n_train = n - (n_val + n_test)\n",
    "\n",
    "seeds = [0, 1, 2, 3, 4, 5, 6, 7, 8, 9]\n",
    "rmse_seed = dict()\n",
    "\n",
    "for seed in seeds:\n",
    "\n",
    "    np.random.seed(seed)\n",
    "\n",
    "    idx = np.arange(n)\n",
    "    np.random.shuffle(idx)\n",
    "\n",
    "    data_shuffled = data_seed.iloc[idx]\n",
    "\n",
    "    data_train = data_shuffled.iloc[:n_train].copy()\n",
    "    data_val = data_shuffled.iloc[n_train:n_train+n_val].copy()\n",
    "    data_test = data_shuffled.iloc[n_train+n_val:].copy()\n",
    "\n",
    "    y_train_orig = data_train.median_house_value.values\n",
    "    y_val_orig = data_val.median_house_value.values\n",
    "    y_test_orig = data_test.median_house_value.values\n",
    "\n",
    "    y_train = np.log1p(data_train.median_house_value.values)\n",
    "    y_val = np.log1p(data_val.median_house_value.values)\n",
    "    y_test = np.log1p(data_test.median_house_value.values)\n",
    "\n",
    "    del data_train['median_house_value']\n",
    "    del data_val['median_house_value']\n",
    "    del data_test['median_house_value']\n",
    "\n",
    "    X_train=data_train.copy()\n",
    "    w_0, w = train_linear_regression(X_train, y_train)\n",
    "    y_pred = w_0 + X_train.dot(w)\n",
    "\n",
    "    X_val = data_val.copy()\n",
    "    y_pred = w_0 + X_val.dot(w)\n",
    "\n",
    "    score = rmse(y_val, y_pred)\n",
    "    \n",
    "    rmse_seed[seed] = score\n",
    "    \n",
    "deviation = np.std([value for value in rmse_seed.values()])\n",
    "print(round(deviation, 3))"
   ]
  },
  {
   "cell_type": "markdown",
   "id": "6109a8e1",
   "metadata": {},
   "source": [
    "# Question 6"
   ]
  },
  {
   "cell_type": "code",
   "execution_count": 74,
   "id": "7df6cf05",
   "metadata": {},
   "outputs": [],
   "source": [
    "# Split the dataset like previously, use seed 9.\n",
    "# Combine train and validation datasets.\n",
    "# Fill the missing values with 0 and train a model with r=0.001.\n",
    "# What's the RMSE on the test dataset?"
   ]
  },
  {
   "cell_type": "code",
   "execution_count": 75,
   "id": "d1444f2f",
   "metadata": {},
   "outputs": [
    {
     "name": "stdout",
     "output_type": "stream",
     "text": [
      "0.34531495071750284\n"
     ]
    }
   ],
   "source": [
    "np.random.seed(9)\n",
    "\n",
    "idx = np.arange(n)\n",
    "np.random.shuffle(idx)\n",
    "\n",
    "data_shuffled = data_seed.iloc[idx]\n",
    "\n",
    "data_train = data_shuffled.iloc[:n_train].copy()\n",
    "data_val = data_shuffled.iloc[n_train:n_train+n_val].copy()\n",
    "data_test = data_shuffled.iloc[n_train+n_val:].copy()\n",
    "data_concat=pd.concat([data_train, data_val])\n",
    "\n",
    "# y_train_orig = data_train.median_house_value.values\n",
    "# y_val_orig = data_val.median_house_value.values\n",
    "y_test_orig = data_test.median_house_value.values\n",
    "y_concat= data_concat.median_house_value.values\n",
    "\n",
    "y_train = np.log1p(data_concat.median_house_value.values)\n",
    "# y_val = np.log1p(data_val.median_house_value.values)\n",
    "# y_concat = np.log1p(data_concat.median_house_value.values)\n",
    "y_test = np.log1p(data_test.median_house_value.values)\n",
    "\n",
    "del data_concat['median_house_value']\n",
    "# del data_val['median_house_value']\n",
    "del data_test['median_house_value']\n",
    "\n",
    "X_train=data_concat.copy()\n",
    "w_0, w = train_linear_regression(X_train, y_train)\n",
    "y_pred = w_0 + X_train.dot(w)\n",
    "\n",
    "X_test = data_test.copy()\n",
    "y_pred = w_0 + X_test.dot(w)\n",
    "score = rmse(y_test, y_pred)\n",
    "\n",
    "print(score)\n",
    "\n"
   ]
  },
  {
   "cell_type": "code",
   "execution_count": null,
   "id": "65b871b7",
   "metadata": {},
   "outputs": [],
   "source": []
  },
  {
   "cell_type": "code",
   "execution_count": null,
   "id": "28800e02",
   "metadata": {},
   "outputs": [],
   "source": []
  }
 ],
 "metadata": {
  "kernelspec": {
   "display_name": "Python 3 (ipykernel)",
   "language": "python",
   "name": "python3"
  },
  "language_info": {
   "codemirror_mode": {
    "name": "ipython",
    "version": 3
   },
   "file_extension": ".py",
   "mimetype": "text/x-python",
   "name": "python",
   "nbconvert_exporter": "python",
   "pygments_lexer": "ipython3",
   "version": "3.9.12"
  }
 },
 "nbformat": 4,
 "nbformat_minor": 5
}
